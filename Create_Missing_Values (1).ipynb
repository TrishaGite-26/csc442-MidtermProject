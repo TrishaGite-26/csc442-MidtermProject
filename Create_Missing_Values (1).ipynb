{
  "nbformat": 4,
  "nbformat_minor": 0,
  "metadata": {
    "colab": {
      "provenance": [],
      "collapsed_sections": [
        "xr-lFuZhNEgb"
      ]
    },
    "kernelspec": {
      "name": "python3",
      "display_name": "Python 3"
    },
    "language_info": {
      "name": "python"
    }
  },
  "cells": [
    {
      "cell_type": "code",
      "source": [
        "#import pandas\n",
        "import pandas as pd\n",
        "import numpy as np"
      ],
      "metadata": {
        "id": "sDCaJpD7QxXh"
      },
      "execution_count": 2,
      "outputs": []
    },
    {
      "cell_type": "code",
      "source": [
        "\n",
        "heart = pd.read_csv(\"/content/Heart_Disease_and_Hospitals.csv\")\n",
        "drugs = pd.read_csv(\"/content/drugs.csv\")\n",
        "\n",
        "\n",
        "# create missing values in drugs dataset\n",
        "drugs[\"Totals.Alcohol.Use Disorder Past Year.12-17\"] = np.where(np.random.rand(len(drugs)) < 0.01, np.nan, drugs['Totals.Alcohol.Use Disorder Past Year.12-17'])\n",
        "drugs[\"Totals.Tobacco.Cigarette Past Month.18-25\"] = np.where(np.random.rand(len(drugs)) < 0.01, np.nan, drugs['Totals.Tobacco.Cigarette Past Month.18-25'])\n",
        "drugs[\"Totals.Illicit Drugs.Cocaine Used Past Year.26+\"] = np.where(np.random.rand(len(drugs)) < 0.01, np.nan, drugs['Totals.Illicit Drugs.Cocaine Used Past Year.26+'])\n",
        "drugs[\"Totals.Marijuana.Used Past Year.12-17\"] = np.where(np.random.rand(len(drugs)) < 0.01, np.nan, drugs['Totals.Marijuana.Used Past Year.12-17'])\n",
        "\n",
        "drugs.info()\n"
      ],
      "metadata": {
        "colab": {
          "base_uri": "https://localhost:8080/"
        },
        "id": "L12iLz0ACz_q",
        "outputId": "243cc6f0-9634-4320-a51e-08b652d6b203"
      },
      "execution_count": 8,
      "outputs": [
        {
          "output_type": "stream",
          "name": "stdout",
          "text": [
            "<class 'pandas.core.frame.DataFrame'>\n",
            "RangeIndex: 867 entries, 0 to 866\n",
            "Data columns (total 53 columns):\n",
            " #   Column                                             Non-Null Count  Dtype  \n",
            "---  ------                                             --------------  -----  \n",
            " 0   State                                              867 non-null    object \n",
            " 1   Year                                               867 non-null    int64  \n",
            " 2   Population.12-17                                   867 non-null    int64  \n",
            " 3   Population.18-25                                   867 non-null    int64  \n",
            " 4   Population.26+                                     867 non-null    int64  \n",
            " 5   Totals.Alcohol.Use Disorder Past Year.12-17        859 non-null    float64\n",
            " 6   Totals.Alcohol.Use Disorder Past Year.18-25        867 non-null    int64  \n",
            " 7   Totals.Alcohol.Use Disorder Past Year.26+          867 non-null    int64  \n",
            " 8   Rates.Alcohol.Use Disorder Past Year.12-17         867 non-null    float64\n",
            " 9   Rates.Alcohol.Use Disorder Past Year.18-25         867 non-null    float64\n",
            " 10  Rates.Alcohol.Use Disorder Past Year.26+           867 non-null    float64\n",
            " 11  Totals.Alcohol.Use Past Month.12-17                867 non-null    int64  \n",
            " 12  Totals.Alcohol.Use Past Month.18-25                867 non-null    int64  \n",
            " 13  Totals.Alcohol.Use Past Month.26+                  867 non-null    int64  \n",
            " 14  Rates.Alcohol.Use Past Month.12-17                 867 non-null    float64\n",
            " 15  Rates.Alcohol.Use Past Month.18-25                 867 non-null    float64\n",
            " 16  Rates.Alcohol.Use Past Month.26+                   867 non-null    float64\n",
            " 17  Totals.Tobacco.Cigarette Past Month.12-17          867 non-null    int64  \n",
            " 18  Totals.Tobacco.Cigarette Past Month.18-25          863 non-null    float64\n",
            " 19  Totals.Tobacco.Cigarette Past Month.26+            867 non-null    int64  \n",
            " 20  Rates.Tobacco.Cigarette Past Month.12-17           867 non-null    float64\n",
            " 21  Rates.Tobacco.Cigarette Past Month.18-25           867 non-null    float64\n",
            " 22  Rates.Tobacco.Cigarette Past Month.26+             867 non-null    float64\n",
            " 23  Totals.Illicit Drugs.Cocaine Used Past Year.12-17  867 non-null    int64  \n",
            " 24  Totals.Illicit Drugs.Cocaine Used Past Year.18-25  867 non-null    int64  \n",
            " 25  Totals.Illicit Drugs.Cocaine Used Past Year.26+    857 non-null    float64\n",
            " 26  Rates.Illicit Drugs.Cocaine Used Past Year.12-17   867 non-null    float64\n",
            " 27  Rates.Illicit Drugs.Cocaine Used Past Year.18-25   867 non-null    float64\n",
            " 28  Rates.Illicit Drugs.Cocaine Used Past Year.26+     867 non-null    float64\n",
            " 29  Totals.Marijuana.New Users.12-17                   867 non-null    int64  \n",
            " 30  Totals.Marijuana.New Users.18-25                   867 non-null    int64  \n",
            " 31  Totals.Marijuana.New Users.26+                     867 non-null    int64  \n",
            " 32  Rates.Marijuana.New Users.12-17                    867 non-null    float64\n",
            " 33  Rates.Marijuana.New Users.18-25                    867 non-null    float64\n",
            " 34  Rates.Marijuana.New Users.26+                      867 non-null    float64\n",
            " 35  Totals.Marijuana.Used Past Month.12-17             867 non-null    int64  \n",
            " 36  Totals.Marijuana.Used Past Month.18-25             867 non-null    int64  \n",
            " 37  Totals.Marijuana.Used Past Month.26+               867 non-null    int64  \n",
            " 38  Rates.Marijuana.Used Past Month.12-17              867 non-null    float64\n",
            " 39  Rates.Marijuana.Used Past Month.18-25              867 non-null    float64\n",
            " 40  Rates.Marijuana.Used Past Month.26+                867 non-null    float64\n",
            " 41  Totals.Marijuana.Used Past Year.12-17              857 non-null    float64\n",
            " 42  Totals.Marijuana.Used Past Year.18-25              867 non-null    int64  \n",
            " 43  Totals.Marijuana.Used Past Year.26+                867 non-null    int64  \n",
            " 44  Rates.Marijuana.Used Past Year.12-17               867 non-null    float64\n",
            " 45  Rates.Marijuana.Used Past Year.18-25               867 non-null    float64\n",
            " 46  Rates.Marijuana.Used Past Year.26+                 867 non-null    float64\n",
            " 47  Totals.Tobacco.Use Past Month.12-17                867 non-null    int64  \n",
            " 48  Totals.Tobacco.Use Past Month.18-25                867 non-null    int64  \n",
            " 49  Totals.Tobacco.Use Past Month.26+                  867 non-null    int64  \n",
            " 50  Rates.Tobacco.Use Past Month.12-17                 867 non-null    float64\n",
            " 51  Rates.Tobacco.Use Past Month.18-25                 867 non-null    float64\n",
            " 52  Rates.Tobacco.Use Past Month.26+                   867 non-null    float64\n",
            "dtypes: float64(28), int64(24), object(1)\n",
            "memory usage: 359.1+ KB\n"
          ]
        }
      ]
    },
    {
      "cell_type": "code",
      "source": [
        "# create missing values in heart disease dataset\n",
        "\n",
        "heart[\"blood_pressure\"] = np.where(np.random.rand(len(heart)) < 0.01, np.nan, heart['blood_pressure'])\n",
        "heart[\"cholesterol\"] = np.where(np.random.rand(len(heart)) < 0.01, np.nan, heart['cholesterol'])\n",
        "heart[\"glucose_level\"] = np.where(np.random.rand(len(heart)) < 0.01, np.nan, heart['glucose_level'])\n",
        "heart.info()"
      ],
      "metadata": {
        "colab": {
          "base_uri": "https://localhost:8080/"
        },
        "id": "UUfoW5wiHJQg",
        "outputId": "a94238b7-9b49-4b7f-ac38-a12148fea575"
      },
      "execution_count": 10,
      "outputs": [
        {
          "output_type": "stream",
          "name": "stdout",
          "text": [
            "<class 'pandas.core.frame.DataFrame'>\n",
            "RangeIndex: 10000 entries, 0 to 9999\n",
            "Data columns (total 15 columns):\n",
            " #   Column          Non-Null Count  Dtype  \n",
            "---  ------          --------------  -----  \n",
            " 0   full_name       10000 non-null  object \n",
            " 1   age             10000 non-null  int64  \n",
            " 2   country         10000 non-null  object \n",
            " 3   state           10000 non-null  object \n",
            " 4   blood_pressure  9897 non-null   float64\n",
            " 5   cholesterol     9912 non-null   float64\n",
            " 6   bmi             10000 non-null  float64\n",
            " 7   glucose_level   9911 non-null   float64\n",
            " 8   gender          10000 non-null  object \n",
            " 9   first_name      10000 non-null  object \n",
            " 10  last_name       10000 non-null  object \n",
            " 11  hospital        10000 non-null  object \n",
            " 12  treatment       10000 non-null  object \n",
            " 13  treatment_date  10000 non-null  object \n",
            " 14  heart_disease   10000 non-null  int64  \n",
            "dtypes: float64(4), int64(2), object(9)\n",
            "memory usage: 1.1+ MB\n"
          ]
        }
      ]
    },
    {
      "cell_type": "markdown",
      "source": [],
      "metadata": {
        "id": "XEkwjj-3IhmZ"
      }
    },
    {
      "cell_type": "code",
      "source": [
        "heart.duplicated().sum()"
      ],
      "metadata": {
        "colab": {
          "base_uri": "https://localhost:8080/"
        },
        "id": "l7788MCaKfBo",
        "outputId": "f1d4f03b-d2cb-4ba2-bfd5-5e81f7bfc301"
      },
      "execution_count": 11,
      "outputs": [
        {
          "output_type": "execute_result",
          "data": {
            "text/plain": [
              "0"
            ]
          },
          "metadata": {},
          "execution_count": 11
        }
      ]
    },
    {
      "cell_type": "code",
      "source": [
        "drugs.duplicated().sum()"
      ],
      "metadata": {
        "colab": {
          "base_uri": "https://localhost:8080/"
        },
        "id": "jgKPOGe4KjY2",
        "outputId": "500970cb-6a5f-41bd-ab64-7a80fcbc5330"
      },
      "execution_count": 12,
      "outputs": [
        {
          "output_type": "execute_result",
          "data": {
            "text/plain": [
              "0"
            ]
          },
          "metadata": {},
          "execution_count": 12
        }
      ]
    },
    {
      "cell_type": "code",
      "source": [
        "drugs.drop(columns = [\"Rates.Alcohol.Use Disorder Past Year.12-17\", \"Rates.Alcohol.Use Disorder Past Year.18-25\", \"Rates.Alcohol.Use Disorder Past Year.26+\"], inplace = True)\n",
        "\n",
        "drugs.info()"
      ],
      "metadata": {
        "colab": {
          "base_uri": "https://localhost:8080/"
        },
        "id": "edMlWzPTMNCL",
        "outputId": "4f183529-ac50-4442-853e-f029fdde5f64"
      },
      "execution_count": 14,
      "outputs": [
        {
          "output_type": "stream",
          "name": "stdout",
          "text": [
            "<class 'pandas.core.frame.DataFrame'>\n",
            "RangeIndex: 867 entries, 0 to 866\n",
            "Data columns (total 50 columns):\n",
            " #   Column                                             Non-Null Count  Dtype  \n",
            "---  ------                                             --------------  -----  \n",
            " 0   State                                              867 non-null    object \n",
            " 1   Year                                               867 non-null    int64  \n",
            " 2   Population.12-17                                   867 non-null    int64  \n",
            " 3   Population.18-25                                   867 non-null    int64  \n",
            " 4   Population.26+                                     867 non-null    int64  \n",
            " 5   Totals.Alcohol.Use Disorder Past Year.12-17        859 non-null    float64\n",
            " 6   Totals.Alcohol.Use Disorder Past Year.18-25        867 non-null    int64  \n",
            " 7   Totals.Alcohol.Use Disorder Past Year.26+          867 non-null    int64  \n",
            " 8   Totals.Alcohol.Use Past Month.12-17                867 non-null    int64  \n",
            " 9   Totals.Alcohol.Use Past Month.18-25                867 non-null    int64  \n",
            " 10  Totals.Alcohol.Use Past Month.26+                  867 non-null    int64  \n",
            " 11  Rates.Alcohol.Use Past Month.12-17                 867 non-null    float64\n",
            " 12  Rates.Alcohol.Use Past Month.18-25                 867 non-null    float64\n",
            " 13  Rates.Alcohol.Use Past Month.26+                   867 non-null    float64\n",
            " 14  Totals.Tobacco.Cigarette Past Month.12-17          867 non-null    int64  \n",
            " 15  Totals.Tobacco.Cigarette Past Month.18-25          863 non-null    float64\n",
            " 16  Totals.Tobacco.Cigarette Past Month.26+            867 non-null    int64  \n",
            " 17  Rates.Tobacco.Cigarette Past Month.12-17           867 non-null    float64\n",
            " 18  Rates.Tobacco.Cigarette Past Month.18-25           867 non-null    float64\n",
            " 19  Rates.Tobacco.Cigarette Past Month.26+             867 non-null    float64\n",
            " 20  Totals.Illicit Drugs.Cocaine Used Past Year.12-17  867 non-null    int64  \n",
            " 21  Totals.Illicit Drugs.Cocaine Used Past Year.18-25  867 non-null    int64  \n",
            " 22  Totals.Illicit Drugs.Cocaine Used Past Year.26+    857 non-null    float64\n",
            " 23  Rates.Illicit Drugs.Cocaine Used Past Year.12-17   867 non-null    float64\n",
            " 24  Rates.Illicit Drugs.Cocaine Used Past Year.18-25   867 non-null    float64\n",
            " 25  Rates.Illicit Drugs.Cocaine Used Past Year.26+     867 non-null    float64\n",
            " 26  Totals.Marijuana.New Users.12-17                   867 non-null    int64  \n",
            " 27  Totals.Marijuana.New Users.18-25                   867 non-null    int64  \n",
            " 28  Totals.Marijuana.New Users.26+                     867 non-null    int64  \n",
            " 29  Rates.Marijuana.New Users.12-17                    867 non-null    float64\n",
            " 30  Rates.Marijuana.New Users.18-25                    867 non-null    float64\n",
            " 31  Rates.Marijuana.New Users.26+                      867 non-null    float64\n",
            " 32  Totals.Marijuana.Used Past Month.12-17             867 non-null    int64  \n",
            " 33  Totals.Marijuana.Used Past Month.18-25             867 non-null    int64  \n",
            " 34  Totals.Marijuana.Used Past Month.26+               867 non-null    int64  \n",
            " 35  Rates.Marijuana.Used Past Month.12-17              867 non-null    float64\n",
            " 36  Rates.Marijuana.Used Past Month.18-25              867 non-null    float64\n",
            " 37  Rates.Marijuana.Used Past Month.26+                867 non-null    float64\n",
            " 38  Totals.Marijuana.Used Past Year.12-17              857 non-null    float64\n",
            " 39  Totals.Marijuana.Used Past Year.18-25              867 non-null    int64  \n",
            " 40  Totals.Marijuana.Used Past Year.26+                867 non-null    int64  \n",
            " 41  Rates.Marijuana.Used Past Year.12-17               867 non-null    float64\n",
            " 42  Rates.Marijuana.Used Past Year.18-25               867 non-null    float64\n",
            " 43  Rates.Marijuana.Used Past Year.26+                 867 non-null    float64\n",
            " 44  Totals.Tobacco.Use Past Month.12-17                867 non-null    int64  \n",
            " 45  Totals.Tobacco.Use Past Month.18-25                867 non-null    int64  \n",
            " 46  Totals.Tobacco.Use Past Month.26+                  867 non-null    int64  \n",
            " 47  Rates.Tobacco.Use Past Month.12-17                 867 non-null    float64\n",
            " 48  Rates.Tobacco.Use Past Month.18-25                 867 non-null    float64\n",
            " 49  Rates.Tobacco.Use Past Month.26+                   867 non-null    float64\n",
            "dtypes: float64(25), int64(24), object(1)\n",
            "memory usage: 338.8+ KB\n"
          ]
        }
      ]
    }
  ]
}